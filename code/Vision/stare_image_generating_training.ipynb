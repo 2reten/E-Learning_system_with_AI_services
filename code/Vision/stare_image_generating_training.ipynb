{
 "cells": [
  {
   "cell_type": "code",
   "execution_count": 23,
   "id": "f215ff18",
   "metadata": {
    "executionInfo": {
     "elapsed": 3030,
     "status": "ok",
     "timestamp": 1701088469990,
     "user": {
      "displayName": "Tompson",
      "userId": "08374827663973165341"
     },
     "user_tz": -540
    },
    "id": "f215ff18"
   },
   "outputs": [],
   "source": [
    "import pandas as pd\n",
    "import tensorflow as tf\n",
    "from tensorflow.keras.preprocessing import image\n",
    "from tensorflow.keras.preprocessing.image import load_img, img_to_array\n",
    "import numpy as np\n",
    "import matplotlib.pyplot as plt\n",
    "from tensorflow.image import pad_to_bounding_box\n",
    "from tensorflow.image import central_crop\n",
    "from tensorflow.image import resize\n",
    "from PIL import Image"
   ]
  },
  {
   "cell_type": "code",
   "execution_count": null,
   "id": "aff26ea9",
   "metadata": {},
   "outputs": [],
   "source": []
  },
  {
   "cell_type": "code",
   "execution_count": null,
   "id": "477c0e51",
   "metadata": {},
   "outputs": [],
   "source": []
  },
  {
   "cell_type": "code",
   "execution_count": null,
   "id": "6154e991",
   "metadata": {},
   "outputs": [],
   "source": []
  },
  {
   "cell_type": "code",
   "execution_count": 24,
   "id": "b6cd6081",
   "metadata": {
    "id": "b6cd6081"
   },
   "outputs": [],
   "source": [
    "# 이미지 불러오기\n",
    "target_size = (64, 64)\n",
    "\n",
    "images = []\n",
    "for i in range(1, 4001):\n",
    "    try:\n",
    "        img = load_img(f\"train/{i}.png\", target_size=target_size)  # 이미지 크기 조정\n",
    "        image_arr = img_to_array(img)\n",
    "        images.append(image_arr)\n",
    "    except FileNotFoundError:\n",
    "        print(f\"파일 {i}.png를 찾을 수 없습니다.\")"
   ]
  },
  {
   "cell_type": "code",
   "execution_count": 25,
   "id": "d4668afd",
   "metadata": {
    "id": "d4668afd"
   },
   "outputs": [],
   "source": [
    "# 이후에 np.array 변환과 정규화 수행\n",
    "images = np.array(images) / 255.0"
   ]
  },
  {
   "cell_type": "code",
   "execution_count": 26,
   "id": "214618a4",
   "metadata": {
    "id": "214618a4",
    "outputId": "c640d9c9-34ef-4203-91eb-aaa817722f1b"
   },
   "outputs": [
    {
     "data": {
      "text/plain": [
       "(4000, 64, 64, 3)"
      ]
     },
     "execution_count": 26,
     "metadata": {},
     "output_type": "execute_result"
    }
   ],
   "source": [
    "images.shape"
   ]
  },
  {
   "cell_type": "code",
   "execution_count": 5,
   "id": "4ffa2db3",
   "metadata": {
    "id": "4ffa2db3"
   },
   "outputs": [
    {
     "name": "stdout",
     "output_type": "stream",
     "text": [
      "Requirement already satisfied: tensorflow_addons in c:\\users\\user\\anaconda3\\lib\\site-packages (0.22.0)\n",
      "Requirement already satisfied: typeguard<3.0.0,>=2.7 in c:\\users\\user\\anaconda3\\lib\\site-packages (from tensorflow_addons) (2.13.3)\n",
      "Requirement already satisfied: packaging in c:\\users\\user\\anaconda3\\lib\\site-packages (from tensorflow_addons) (23.0)\n",
      "Note: you may need to restart the kernel to use updated packages.\n"
     ]
    }
   ],
   "source": [
    "pip install tensorflow_addons"
   ]
  },
  {
   "cell_type": "code",
   "execution_count": 27,
   "id": "3db243a1",
   "metadata": {
    "id": "3db243a1"
   },
   "outputs": [],
   "source": [
    "from sklearn.model_selection import train_test_split\n",
    "from tensorflow.keras.utils import to_categorical\n",
    "from tensorflow.keras.preprocessing.image import load_img, img_to_array\n",
    "import tensorflow as tf\n",
    "import tensorflow_addons as tfa\n",
    "import math"
   ]
  },
  {
   "cell_type": "code",
   "execution_count": 28,
   "id": "1fd475cf",
   "metadata": {
    "id": "1fd475cf"
   },
   "outputs": [],
   "source": [
    "import tensorflow as tf\n",
    "import math\n",
    "import tensorflow_addons as tfa\n",
    "\n",
    "augmented_images = []\n",
    "\n",
    "for image in images:\n",
    "    # 1.Original Image\n",
    "    augmented_images.append(image)\n",
    "\n",
    "#     # 2.Random Rotation within ±30 degrees\n",
    "#     rotation_degree = tf.random.uniform([], minval=-30, maxval=30, dtype=tf.float32)\n",
    "#     rotation_radian = rotation_degree * math.pi / 180\n",
    "#     rotated_tensor = tfa.image.rotate(image, rotation_radian)\n",
    "#     augmented_images.append(rotated_tensor.numpy())\n",
    "\n",
    "    # 3.Random Brightness Adjustment\n",
    "    brightness_tensor = tf.image.random_brightness(image, max_delta=0.5)\n",
    "    augmented_images.append(brightness_tensor.numpy())\n",
    "\n",
    "    # 4.Random Contrast Adjustment\n",
    "    contrast_tensor = tf.image.random_contrast(image, lower=0.2, upper=1.8)\n",
    "    augmented_images.append(contrast_tensor.numpy())\n",
    "\n",
    "    # 5.Random Saturation Adjustment\n",
    "    saturation_tensor = tf.image.random_saturation(image, lower=0.5, upper=1.5)\n",
    "    augmented_images.append(saturation_tensor.numpy())\n",
    "\n",
    "    # 6.Random Zoom\n",
    "    zoom_tensor = tf.keras.preprocessing.image.random_zoom(image, zoom_range=(0.8, 1.2), row_axis=0, col_axis=1, channel_axis=2)\n",
    "    augmented_images.append(zoom_tensor)\n",
    "\n",
    "#     # 7.Random Shear\n",
    "#     shear_tensor = tf.keras.preprocessing.image.random_shear(image, intensity=0.2, row_axis=0, col_axis=1, channel_axis=2)\n",
    "#     augmented_images.append(shear_tensor)\n",
    "\n",
    "#     # 8.Random Width Shift\n",
    "#     width_shift_tensor = tf.keras.preprocessing.image.random_shift(image, wrg=0.2, hrg=0, row_axis=0, col_axis=1, channel_axis=2)\n",
    "#     augmented_images.append(width_shift_tensor)\n",
    "\n",
    "#     # 9.Random Height Shift\n",
    "#     height_shift_tensor = tf.keras.preprocessing.image.random_shift(image, wrg=0, hrg=0.2, row_axis=0, col_axis=1, channel_axis=2)\n",
    "#     augmented_images.append(height_shift_tensor)\n",
    "\n",
    "# Now, augmented_images list contains 5 original transformations plus 4 new transformations for each image.\n",
    "\n",
    "    "
   ]
  },
  {
   "cell_type": "code",
   "execution_count": 29,
   "id": "89f12870",
   "metadata": {
    "id": "89f12870"
   },
   "outputs": [
    {
     "data": {
      "text/plain": [
       "20000"
      ]
     },
     "execution_count": 29,
     "metadata": {},
     "output_type": "execute_result"
    }
   ],
   "source": [
    "len(augmented_images)"
   ]
  },
  {
   "cell_type": "code",
   "execution_count": 31,
   "id": "47e60d0d",
   "metadata": {
    "id": "47e60d0d",
    "outputId": "518d71f1-084e-4397-fd88-61dd4817d6b5"
   },
   "outputs": [],
   "source": [
    "# 레이블준비\n",
    "# 각 레이블에 대해 400개의 이미지가 있다고 가정하고 레이블 생성\n",
    "# 원본 라벨링 데이터\n",
    "# 0부터 2까지의 숫자를 각각 2000번씩 반복\n",
    "original_labels = np.repeat(np.arange(0, 2), 2000)\n",
    "labels = np.repeat(original_labels, 5)"
   ]
  },
  {
   "cell_type": "code",
   "execution_count": 32,
   "id": "7a517d5b",
   "metadata": {
    "id": "7a517d5b"
   },
   "outputs": [
    {
     "data": {
      "text/plain": [
       "20000"
      ]
     },
     "execution_count": 32,
     "metadata": {},
     "output_type": "execute_result"
    }
   ],
   "source": [
    "len(labels)"
   ]
  },
  {
   "cell_type": "code",
   "execution_count": 33,
   "id": "15a9f3bf",
   "metadata": {
    "id": "15a9f3bf"
   },
   "outputs": [],
   "source": [
    "# 이미지와 레이블을 섞어서 훈련 데이터와 검증 데이터로 분할\n",
    "train_x, val_x, train_y, val_y = train_test_split(\n",
    "    augmented_images, labels, test_size=0.2, shuffle=True, random_state=42)"
   ]
  },
  {
   "cell_type": "code",
   "execution_count": 34,
   "id": "99298214",
   "metadata": {
    "id": "99298214"
   },
   "outputs": [],
   "source": [
    "# 타겟 데이터 정규화\n",
    "num_classes=2\n",
    "\n",
    "train_y = to_categorical(train_y, num_classes=num_classes)  # 원-핫 인코딩\n",
    "val_y = to_categorical(val_y, num_classes=num_classes)"
   ]
  },
  {
   "cell_type": "code",
   "execution_count": null,
   "id": "51d87516",
   "metadata": {
    "id": "51d87516"
   },
   "outputs": [],
   "source": []
  },
  {
   "cell_type": "code",
   "execution_count": 35,
   "id": "32f26c08",
   "metadata": {
    "id": "32f26c08",
    "outputId": "51ed7158-405f-45f2-a426-5d93f126aa9d",
    "scrolled": true
   },
   "outputs": [
    {
     "name": "stdout",
     "output_type": "stream",
     "text": [
      "train_x shape: (16000, 64, 64, 3)\n",
      "train_y shape: (16000, 2)\n",
      "val_x shape: (4000, 64, 64, 3)\n",
      "val_y shape: (4000, 2)\n"
     ]
    }
   ],
   "source": [
    "import numpy as np\n",
    "\n",
    "train_x = np.array(train_x)\n",
    "train_y = np.array(train_y)\n",
    "val_x = np.array(val_x)\n",
    "val_y = np.array(val_y)\n",
    "\n",
    "print(\"train_x shape:\", train_x.shape)\n",
    "print(\"train_y shape:\", train_y.shape)\n",
    "print(\"val_x shape:\", val_x.shape)\n",
    "print(\"val_y shape:\", val_y.shape)"
   ]
  },
  {
   "cell_type": "code",
   "execution_count": 36,
   "id": "cacc613c",
   "metadata": {
    "id": "cacc613c"
   },
   "outputs": [],
   "source": [
    "from tensorflow.keras.models import Sequential\n",
    "from tensorflow.keras.layers import Dense, Dropout, Flatten, Conv2D, MaxPooling2D, BatchNormalization, LeakyReLU\n",
    "from tensorflow.keras.callbacks import ModelCheckpoint,EarlyStopping,ReduceLROnPlateau\n",
    "from tensorflow.keras.datasets import mnist\n",
    "from tensorflow.keras.utils import to_categorical\n",
    "from tensorflow.keras.optimizers import Adam\n",
    "\n"
   ]
  },
  {
   "cell_type": "code",
   "execution_count": 37,
   "id": "01a46bc2",
   "metadata": {
    "id": "01a46bc2"
   },
   "outputs": [],
   "source": [
    "num_classes = 2\n",
    "model = Sequential()\n",
    "\n",
    "# 첫 번째 컨볼루션 블록\n",
    "model.add(Conv2D(32, (3, 3), input_shape=(64, 64, 3)))\n",
    "model.add(BatchNormalization())\n",
    "model.add(LeakyReLU(alpha=0.1))\n",
    "model.add(MaxPooling2D((2, 2)))\n",
    "model.add(Dropout(0.25))\n",
    "\n",
    "# 두 번째 컨볼루션 블록\n",
    "model.add(Conv2D(64, (3, 3)))\n",
    "model.add(BatchNormalization())\n",
    "model.add(LeakyReLU(alpha=0.1))\n",
    "model.add(MaxPooling2D((2, 2)))\n",
    "model.add(Dropout(0.25))\n",
    "\n",
    "# 세 번째 컨볼루션 블록\n",
    "model.add(Conv2D(128, (3, 3)))\n",
    "model.add(BatchNormalization())\n",
    "model.add(LeakyReLU(alpha=0.1))\n",
    "model.add(MaxPooling2D((2, 2)))\n",
    "model.add(Dropout(0.25))\n",
    "\n",
    "# 플래튼 및 완전 연결 레이어\n",
    "model.add(Flatten())\n",
    "model.add(Dense(256, activation='relu'))\n",
    "model.add(Dropout(0.5))\n",
    "model.add(Dense(num_classes, activation='sigmoid'))\n",
    "\n",
    "# Early Stopping, Model Checkpoint, ReduceLROnPlateau\n",
    "early_stopping = EarlyStopping(monitor='val_loss', patience=5)\n",
    "model_checkpoint = ModelCheckpoint('stare_model.h5', save_best_only=True)\n",
    "reduce_lr = ReduceLROnPlateau(monitor='val_loss', factor=0.2, patience=5, min_lr=0.00001)\n",
    "\n"
   ]
  },
  {
   "cell_type": "code",
   "execution_count": 40,
   "id": "472b4b9b",
   "metadata": {
    "scrolled": true
   },
   "outputs": [
    {
     "name": "stdout",
     "output_type": "stream",
     "text": [
      "Epoch 1/100\n",
      "250/250 [==============================] - 42s 165ms/step - loss: 0.8781 - accuracy: 0.5626 - val_loss: 0.7131 - val_accuracy: 0.5010\n",
      "Epoch 2/100\n"
     ]
    },
    {
     "name": "stderr",
     "output_type": "stream",
     "text": [
      "C:\\Users\\user\\anaconda3\\Lib\\site-packages\\keras\\src\\engine\\training.py:3079: UserWarning: You are saving your model as an HDF5 file via `model.save()`. This file format is considered legacy. We recommend using instead the native Keras format, e.g. `model.save('my_model.keras')`.\n",
      "  saving_api.save_model(\n"
     ]
    },
    {
     "name": "stdout",
     "output_type": "stream",
     "text": [
      "250/250 [==============================] - 43s 171ms/step - loss: 0.6708 - accuracy: 0.6392 - val_loss: 0.5981 - val_accuracy: 0.7470\n",
      "Epoch 3/100\n",
      "250/250 [==============================] - 41s 166ms/step - loss: 0.6131 - accuracy: 0.6810 - val_loss: 0.5504 - val_accuracy: 0.7548\n",
      "Epoch 4/100\n",
      "250/250 [==============================] - 40s 161ms/step - loss: 0.5728 - accuracy: 0.7110 - val_loss: 0.5282 - val_accuracy: 0.7418\n",
      "Epoch 5/100\n",
      "250/250 [==============================] - 40s 161ms/step - loss: 0.5457 - accuracy: 0.7324 - val_loss: 0.5086 - val_accuracy: 0.7505\n",
      "Epoch 6/100\n",
      "250/250 [==============================] - 40s 161ms/step - loss: 0.5218 - accuracy: 0.7451 - val_loss: 0.4798 - val_accuracy: 0.7703\n",
      "Epoch 7/100\n",
      "250/250 [==============================] - 40s 161ms/step - loss: 0.4985 - accuracy: 0.7608 - val_loss: 0.4684 - val_accuracy: 0.7750\n",
      "Epoch 8/100\n",
      "250/250 [==============================] - 42s 168ms/step - loss: 0.4811 - accuracy: 0.7728 - val_loss: 0.4543 - val_accuracy: 0.7820\n",
      "Epoch 9/100\n",
      "250/250 [==============================] - 42s 169ms/step - loss: 0.4589 - accuracy: 0.7814 - val_loss: 0.4420 - val_accuracy: 0.7862\n",
      "Epoch 10/100\n",
      "250/250 [==============================] - 42s 169ms/step - loss: 0.4448 - accuracy: 0.7947 - val_loss: 0.4401 - val_accuracy: 0.7805\n",
      "Epoch 11/100\n",
      "250/250 [==============================] - 42s 169ms/step - loss: 0.4290 - accuracy: 0.8006 - val_loss: 0.4321 - val_accuracy: 0.7860\n",
      "Epoch 12/100\n",
      "250/250 [==============================] - 42s 169ms/step - loss: 0.4166 - accuracy: 0.8137 - val_loss: 0.4158 - val_accuracy: 0.7955\n",
      "Epoch 13/100\n",
      "250/250 [==============================] - 42s 168ms/step - loss: 0.4096 - accuracy: 0.8139 - val_loss: 0.4079 - val_accuracy: 0.8018\n",
      "Epoch 14/100\n",
      "250/250 [==============================] - 42s 168ms/step - loss: 0.3952 - accuracy: 0.8236 - val_loss: 0.3967 - val_accuracy: 0.8050\n",
      "Epoch 15/100\n",
      "250/250 [==============================] - 42s 168ms/step - loss: 0.3840 - accuracy: 0.8304 - val_loss: 0.3803 - val_accuracy: 0.8152\n",
      "Epoch 16/100\n",
      "250/250 [==============================] - 42s 168ms/step - loss: 0.3760 - accuracy: 0.8367 - val_loss: 0.3765 - val_accuracy: 0.8177\n",
      "Epoch 17/100\n",
      "250/250 [==============================] - 42s 168ms/step - loss: 0.3690 - accuracy: 0.8367 - val_loss: 0.3736 - val_accuracy: 0.8173\n",
      "Epoch 18/100\n",
      "250/250 [==============================] - 42s 167ms/step - loss: 0.3562 - accuracy: 0.8441 - val_loss: 0.3692 - val_accuracy: 0.8213\n",
      "Epoch 19/100\n",
      "250/250 [==============================] - 41s 165ms/step - loss: 0.3556 - accuracy: 0.8424 - val_loss: 0.3498 - val_accuracy: 0.8325\n",
      "Epoch 20/100\n",
      "250/250 [==============================] - 41s 165ms/step - loss: 0.3469 - accuracy: 0.8491 - val_loss: 0.3571 - val_accuracy: 0.8280\n",
      "Epoch 21/100\n",
      "250/250 [==============================] - 42s 166ms/step - loss: 0.3382 - accuracy: 0.8586 - val_loss: 0.3479 - val_accuracy: 0.8335\n",
      "Epoch 22/100\n",
      "250/250 [==============================] - 42s 167ms/step - loss: 0.3355 - accuracy: 0.8577 - val_loss: 0.3389 - val_accuracy: 0.8382\n",
      "Epoch 23/100\n",
      "250/250 [==============================] - 42s 167ms/step - loss: 0.3281 - accuracy: 0.8619 - val_loss: 0.3264 - val_accuracy: 0.8470\n",
      "Epoch 24/100\n",
      "250/250 [==============================] - 42s 166ms/step - loss: 0.3210 - accuracy: 0.8655 - val_loss: 0.3274 - val_accuracy: 0.8475\n",
      "Epoch 25/100\n",
      "250/250 [==============================] - 42s 167ms/step - loss: 0.3106 - accuracy: 0.8709 - val_loss: 0.3232 - val_accuracy: 0.8512\n",
      "Epoch 26/100\n",
      "250/250 [==============================] - 42s 166ms/step - loss: 0.3092 - accuracy: 0.8736 - val_loss: 0.3206 - val_accuracy: 0.8528\n",
      "Epoch 27/100\n",
      "250/250 [==============================] - 42s 167ms/step - loss: 0.3053 - accuracy: 0.8746 - val_loss: 0.3154 - val_accuracy: 0.8553\n",
      "Epoch 28/100\n",
      "250/250 [==============================] - 42s 167ms/step - loss: 0.2961 - accuracy: 0.8788 - val_loss: 0.3148 - val_accuracy: 0.8555\n",
      "Epoch 29/100\n",
      "250/250 [==============================] - 42s 167ms/step - loss: 0.2868 - accuracy: 0.8846 - val_loss: 0.3042 - val_accuracy: 0.8610\n",
      "Epoch 30/100\n",
      "250/250 [==============================] - 42s 167ms/step - loss: 0.2839 - accuracy: 0.8835 - val_loss: 0.3053 - val_accuracy: 0.8597\n",
      "Epoch 31/100\n",
      "250/250 [==============================] - 42s 168ms/step - loss: 0.2784 - accuracy: 0.8887 - val_loss: 0.2826 - val_accuracy: 0.8750\n",
      "Epoch 32/100\n",
      "250/250 [==============================] - 42s 167ms/step - loss: 0.2715 - accuracy: 0.8904 - val_loss: 0.2834 - val_accuracy: 0.8725\n",
      "Epoch 33/100\n",
      "250/250 [==============================] - 42s 167ms/step - loss: 0.2745 - accuracy: 0.8919 - val_loss: 0.2819 - val_accuracy: 0.8723\n",
      "Epoch 34/100\n",
      "250/250 [==============================] - 42s 167ms/step - loss: 0.2641 - accuracy: 0.8939 - val_loss: 0.2751 - val_accuracy: 0.8763\n",
      "Epoch 35/100\n",
      "250/250 [==============================] - 42s 167ms/step - loss: 0.2584 - accuracy: 0.8967 - val_loss: 0.2838 - val_accuracy: 0.8690\n",
      "Epoch 36/100\n",
      "250/250 [==============================] - 42s 167ms/step - loss: 0.2547 - accuracy: 0.8977 - val_loss: 0.2674 - val_accuracy: 0.8810\n",
      "Epoch 37/100\n",
      "250/250 [==============================] - 42s 167ms/step - loss: 0.2532 - accuracy: 0.8962 - val_loss: 0.2584 - val_accuracy: 0.8857\n",
      "Epoch 38/100\n",
      "250/250 [==============================] - 42s 167ms/step - loss: 0.2455 - accuracy: 0.9035 - val_loss: 0.2556 - val_accuracy: 0.8885\n",
      "Epoch 39/100\n",
      "250/250 [==============================] - 42s 166ms/step - loss: 0.2420 - accuracy: 0.9059 - val_loss: 0.2526 - val_accuracy: 0.8895\n",
      "Epoch 40/100\n",
      "250/250 [==============================] - 42s 166ms/step - loss: 0.2407 - accuracy: 0.9069 - val_loss: 0.2620 - val_accuracy: 0.8835\n",
      "Epoch 41/100\n",
      "250/250 [==============================] - 42s 168ms/step - loss: 0.2337 - accuracy: 0.9081 - val_loss: 0.2557 - val_accuracy: 0.8860\n",
      "Epoch 42/100\n",
      "250/250 [==============================] - 42s 168ms/step - loss: 0.2231 - accuracy: 0.9132 - val_loss: 0.2330 - val_accuracy: 0.9003\n",
      "Epoch 43/100\n",
      "250/250 [==============================] - 42s 167ms/step - loss: 0.2320 - accuracy: 0.9053 - val_loss: 0.2501 - val_accuracy: 0.8910\n",
      "Epoch 44/100\n",
      "250/250 [==============================] - 42s 167ms/step - loss: 0.2257 - accuracy: 0.9114 - val_loss: 0.2305 - val_accuracy: 0.9032\n",
      "Epoch 45/100\n",
      "250/250 [==============================] - 42s 168ms/step - loss: 0.2181 - accuracy: 0.9152 - val_loss: 0.2411 - val_accuracy: 0.8965\n",
      "Epoch 46/100\n",
      "250/250 [==============================] - 42s 167ms/step - loss: 0.2127 - accuracy: 0.9175 - val_loss: 0.2358 - val_accuracy: 0.9003\n",
      "Epoch 47/100\n",
      "250/250 [==============================] - 42s 168ms/step - loss: 0.2174 - accuracy: 0.9162 - val_loss: 0.2215 - val_accuracy: 0.9080\n",
      "Epoch 48/100\n",
      "250/250 [==============================] - 45s 180ms/step - loss: 0.2097 - accuracy: 0.9184 - val_loss: 0.2200 - val_accuracy: 0.9090\n",
      "Epoch 49/100\n",
      "250/250 [==============================] - 41s 165ms/step - loss: 0.2088 - accuracy: 0.9196 - val_loss: 0.2148 - val_accuracy: 0.9105\n",
      "Epoch 50/100\n",
      "250/250 [==============================] - 39s 155ms/step - loss: 0.2040 - accuracy: 0.9233 - val_loss: 0.2174 - val_accuracy: 0.9082\n",
      "Epoch 51/100\n",
      "250/250 [==============================] - 38s 153ms/step - loss: 0.1989 - accuracy: 0.9240 - val_loss: 0.2137 - val_accuracy: 0.9105\n",
      "Epoch 52/100\n",
      "250/250 [==============================] - 39s 155ms/step - loss: 0.1951 - accuracy: 0.9254 - val_loss: 0.2325 - val_accuracy: 0.9018\n",
      "Epoch 53/100\n",
      "250/250 [==============================] - 39s 155ms/step - loss: 0.1964 - accuracy: 0.9254 - val_loss: 0.2089 - val_accuracy: 0.9147\n",
      "Epoch 54/100\n",
      "250/250 [==============================] - 38s 154ms/step - loss: 0.1920 - accuracy: 0.9279 - val_loss: 0.1989 - val_accuracy: 0.9195\n",
      "Epoch 55/100\n",
      "250/250 [==============================] - 40s 158ms/step - loss: 0.1888 - accuracy: 0.9276 - val_loss: 0.1934 - val_accuracy: 0.9227\n",
      "Epoch 56/100\n",
      "250/250 [==============================] - 38s 153ms/step - loss: 0.1860 - accuracy: 0.9288 - val_loss: 0.1971 - val_accuracy: 0.9205\n",
      "Epoch 57/100\n",
      "250/250 [==============================] - 38s 152ms/step - loss: 0.1828 - accuracy: 0.9331 - val_loss: 0.1961 - val_accuracy: 0.9212\n"
     ]
    },
    {
     "name": "stdout",
     "output_type": "stream",
     "text": [
      "Epoch 58/100\n",
      "250/250 [==============================] - 39s 155ms/step - loss: 0.1800 - accuracy: 0.9348 - val_loss: 0.1882 - val_accuracy: 0.9247\n",
      "Epoch 59/100\n",
      "250/250 [==============================] - 39s 156ms/step - loss: 0.1771 - accuracy: 0.9353 - val_loss: 0.2023 - val_accuracy: 0.9185\n",
      "Epoch 60/100\n",
      "250/250 [==============================] - 41s 164ms/step - loss: 0.1775 - accuracy: 0.9330 - val_loss: 0.1873 - val_accuracy: 0.9260\n",
      "Epoch 61/100\n",
      "250/250 [==============================] - 39s 154ms/step - loss: 0.1751 - accuracy: 0.9360 - val_loss: 0.1743 - val_accuracy: 0.9323\n",
      "Epoch 62/100\n",
      "250/250 [==============================] - 39s 155ms/step - loss: 0.1735 - accuracy: 0.9364 - val_loss: 0.1984 - val_accuracy: 0.9222\n",
      "Epoch 63/100\n",
      "250/250 [==============================] - 39s 156ms/step - loss: 0.1725 - accuracy: 0.9356 - val_loss: 0.1915 - val_accuracy: 0.9243\n",
      "Epoch 64/100\n",
      "250/250 [==============================] - 38s 153ms/step - loss: 0.1659 - accuracy: 0.9394 - val_loss: 0.1816 - val_accuracy: 0.9293\n",
      "Epoch 65/100\n",
      "250/250 [==============================] - 43s 173ms/step - loss: 0.1654 - accuracy: 0.9388 - val_loss: 0.1664 - val_accuracy: 0.9367\n",
      "Epoch 66/100\n",
      "250/250 [==============================] - 46s 184ms/step - loss: 0.1640 - accuracy: 0.9383 - val_loss: 0.1749 - val_accuracy: 0.9333\n",
      "Epoch 67/100\n",
      "250/250 [==============================] - 41s 166ms/step - loss: 0.1638 - accuracy: 0.9384 - val_loss: 0.1740 - val_accuracy: 0.9327\n",
      "Epoch 68/100\n",
      "250/250 [==============================] - 41s 163ms/step - loss: 0.1620 - accuracy: 0.9405 - val_loss: 0.1613 - val_accuracy: 0.9383\n",
      "Epoch 69/100\n",
      "250/250 [==============================] - 47s 188ms/step - loss: 0.1581 - accuracy: 0.9419 - val_loss: 0.1682 - val_accuracy: 0.9342\n",
      "Epoch 70/100\n",
      "250/250 [==============================] - 49s 196ms/step - loss: 0.1570 - accuracy: 0.9424 - val_loss: 0.1656 - val_accuracy: 0.9367\n",
      "Epoch 71/100\n",
      "250/250 [==============================] - 40s 160ms/step - loss: 0.1540 - accuracy: 0.9445 - val_loss: 0.1621 - val_accuracy: 0.9385\n",
      "Epoch 72/100\n",
      "250/250 [==============================] - 39s 156ms/step - loss: 0.1525 - accuracy: 0.9436 - val_loss: 0.1543 - val_accuracy: 0.9410\n",
      "Epoch 73/100\n",
      "250/250 [==============================] - 40s 159ms/step - loss: 0.1510 - accuracy: 0.9444 - val_loss: 0.1682 - val_accuracy: 0.9358\n",
      "Epoch 74/100\n",
      "250/250 [==============================] - 41s 163ms/step - loss: 0.1497 - accuracy: 0.9463 - val_loss: 0.1693 - val_accuracy: 0.9358\n",
      "Epoch 75/100\n",
      "250/250 [==============================] - 40s 160ms/step - loss: 0.1496 - accuracy: 0.9450 - val_loss: 0.1575 - val_accuracy: 0.9413\n",
      "Epoch 76/100\n",
      "250/250 [==============================] - 40s 161ms/step - loss: 0.1435 - accuracy: 0.9461 - val_loss: 0.1586 - val_accuracy: 0.9405\n",
      "Epoch 77/100\n",
      "250/250 [==============================] - 43s 170ms/step - loss: 0.1435 - accuracy: 0.9463 - val_loss: 0.1479 - val_accuracy: 0.9448\n",
      "Epoch 78/100\n",
      "250/250 [==============================] - 44s 175ms/step - loss: 0.1428 - accuracy: 0.9483 - val_loss: 0.1541 - val_accuracy: 0.9427\n",
      "Epoch 79/100\n",
      "250/250 [==============================] - 45s 179ms/step - loss: 0.1397 - accuracy: 0.9505 - val_loss: 0.1486 - val_accuracy: 0.9438\n",
      "Epoch 80/100\n",
      "250/250 [==============================] - 41s 164ms/step - loss: 0.1367 - accuracy: 0.9496 - val_loss: 0.1562 - val_accuracy: 0.9415\n",
      "Epoch 81/100\n",
      "250/250 [==============================] - 44s 176ms/step - loss: 0.1387 - accuracy: 0.9491 - val_loss: 0.1468 - val_accuracy: 0.9442\n",
      "Epoch 82/100\n",
      "250/250 [==============================] - 42s 167ms/step - loss: 0.1393 - accuracy: 0.9507 - val_loss: 0.1488 - val_accuracy: 0.9448\n",
      "Epoch 83/100\n",
      "250/250 [==============================] - 42s 167ms/step - loss: 0.1318 - accuracy: 0.9525 - val_loss: 0.1374 - val_accuracy: 0.9485\n",
      "Epoch 84/100\n",
      "250/250 [==============================] - 45s 179ms/step - loss: 0.1359 - accuracy: 0.9505 - val_loss: 0.1438 - val_accuracy: 0.9475\n",
      "Epoch 85/100\n",
      "250/250 [==============================] - 55s 220ms/step - loss: 0.1287 - accuracy: 0.9528 - val_loss: 0.1497 - val_accuracy: 0.9450\n",
      "Epoch 86/100\n",
      "250/250 [==============================] - 49s 198ms/step - loss: 0.1315 - accuracy: 0.9521 - val_loss: 0.1449 - val_accuracy: 0.9455\n",
      "Epoch 87/100\n",
      "250/250 [==============================] - 41s 164ms/step - loss: 0.1298 - accuracy: 0.9537 - val_loss: 0.1332 - val_accuracy: 0.9515\n",
      "Epoch 88/100\n",
      "250/250 [==============================] - 41s 164ms/step - loss: 0.1278 - accuracy: 0.9554 - val_loss: 0.1278 - val_accuracy: 0.9532\n",
      "Epoch 89/100\n",
      "250/250 [==============================] - 40s 160ms/step - loss: 0.1313 - accuracy: 0.9519 - val_loss: 0.1334 - val_accuracy: 0.9517\n",
      "Epoch 90/100\n",
      "250/250 [==============================] - 40s 160ms/step - loss: 0.1220 - accuracy: 0.9546 - val_loss: 0.1287 - val_accuracy: 0.9538\n",
      "Epoch 91/100\n",
      "250/250 [==============================] - 49s 195ms/step - loss: 0.1240 - accuracy: 0.9549 - val_loss: 0.1307 - val_accuracy: 0.9535\n",
      "Epoch 92/100\n",
      "250/250 [==============================] - 41s 163ms/step - loss: 0.1237 - accuracy: 0.9556 - val_loss: 0.1299 - val_accuracy: 0.9530\n",
      "Epoch 93/100\n",
      "250/250 [==============================] - 40s 162ms/step - loss: 0.1212 - accuracy: 0.9560 - val_loss: 0.1252 - val_accuracy: 0.9545\n",
      "Epoch 94/100\n",
      "250/250 [==============================] - 41s 163ms/step - loss: 0.1171 - accuracy: 0.9588 - val_loss: 0.1340 - val_accuracy: 0.9513\n",
      "Epoch 95/100\n",
      "250/250 [==============================] - 43s 173ms/step - loss: 0.1185 - accuracy: 0.9563 - val_loss: 0.1233 - val_accuracy: 0.9555\n",
      "Epoch 96/100\n",
      "250/250 [==============================] - 47s 187ms/step - loss: 0.1153 - accuracy: 0.9585 - val_loss: 0.1251 - val_accuracy: 0.9545\n",
      "Epoch 97/100\n",
      "250/250 [==============================] - 42s 167ms/step - loss: 0.1195 - accuracy: 0.9563 - val_loss: 0.1201 - val_accuracy: 0.9563\n",
      "Epoch 98/100\n",
      "250/250 [==============================] - 47s 188ms/step - loss: 0.1137 - accuracy: 0.9585 - val_loss: 0.1176 - val_accuracy: 0.9563\n",
      "Epoch 99/100\n",
      "250/250 [==============================] - 46s 186ms/step - loss: 0.1123 - accuracy: 0.9604 - val_loss: 0.1211 - val_accuracy: 0.9567\n",
      "Epoch 100/100\n",
      "250/250 [==============================] - 40s 161ms/step - loss: 0.1123 - accuracy: 0.9597 - val_loss: 0.1256 - val_accuracy: 0.9542\n"
     ]
    }
   ],
   "source": [
    "# 모델 컴파일\n",
    "model.compile(optimizer=Adam(learning_rate=0.00001), loss='binary_crossentropy', metrics=['accuracy'])\n",
    "\n",
    "# 모델 훈련\n",
    "history = model.fit(\n",
    "    train_x, \n",
    "    train_y, \n",
    "    validation_data=(val_x, val_y),\n",
    "    epochs=100,\n",
    "    batch_size=64,  # You can change the number 32 to whatever batch size you prefer\n",
    "    callbacks=[early_stopping, model_checkpoint]\n",
    ")"
   ]
  },
  {
   "cell_type": "code",
   "execution_count": 41,
   "id": "1fc8d3ee",
   "metadata": {
    "id": "1fc8d3ee",
    "outputId": "a898a66a-0424-41aa-f019-6c5a9deb1da4"
   },
   "outputs": [
    {
     "data": {
      "image/png": "[encoded data removed]",
      "text/plain": [
       "<Figure size 1200x600 with 2 Axes>"
      ]
     },
     "metadata": {},
     "output_type": "display_data"
    }
   ],
   "source": [
    "import matplotlib.pyplot as plt\n",
    "\n",
    "# 정확도 그래프\n",
    "plt.figure(figsize=(12, 6))\n",
    "plt.subplot(1, 2, 1)  # 1행 2열의 첫 번째 그래프\n",
    "plt.plot(history.history['accuracy'], label='Training Accuracy')\n",
    "plt.plot(history.history['val_accuracy'], label='Validation Accuracy')\n",
    "plt.title('Training and Validation Accuracy')\n",
    "plt.xlabel('Epoch')\n",
    "plt.ylabel('Accuracy')\n",
    "plt.legend()\n",
    "\n",
    "# 손실 그래프\n",
    "plt.subplot(1, 2, 2)  # 1행 2열의 두 번째 그래프\n",
    "plt.plot(history.history['loss'], label='Training Loss')\n",
    "plt.plot(history.history['val_loss'], label='Validation Loss')\n",
    "plt.title('Training and Validation Loss')\n",
    "plt.xlabel('Epoch')\n",
    "plt.ylabel('Loss')\n",
    "plt.legend()\n",
    "\n",
    "plt.show()"
   ]
  },
  {
   "cell_type": "code",
   "execution_count": null,
   "id": "2cdc8516",
   "metadata": {
    "id": "2cdc8516"
   },
   "outputs": [],
   "source": []
  },
  {
   "cell_type": "code",
   "execution_count": null,
   "id": "23cd77e5",
   "metadata": {
    "id": "23cd77e5"
   },
   "outputs": [],
   "source": []
  },
  {
   "cell_type": "code",
   "execution_count": 42,
   "id": "b5a097e6",
   "metadata": {
    "id": "b5a097e6",
    "outputId": "4374a030-d126-4fbd-9c4d-0e1a4b91004d"
   },
   "outputs": [
    {
     "name": "stdout",
     "output_type": "stream",
     "text": [
      "125/125 [==============================] - 2s 16ms/step - loss: 0.1256 - accuracy: 0.9542\n",
      "Loss: 0.12555423378944397, Accuracy: 0.9542499780654907\n"
     ]
    }
   ],
   "source": [
    "# 모델 평가\n",
    "loss, accuracy = model.evaluate(val_x, val_y)\n",
    "print(f\"Loss: {loss}, Accuracy: {accuracy}\")\n",
    "\n"
   ]
  },
  {
   "cell_type": "code",
   "execution_count": 43,
   "id": "6a68e8a9",
   "metadata": {
    "id": "6a68e8a9",
    "outputId": "5c7c54c9-ac0e-443b-b09d-2b818a569801",
    "scrolled": true
   },
   "outputs": [
    {
     "name": "stdout",
     "output_type": "stream",
     "text": [
      "125/125 [==============================] - 2s 16ms/step\n"
     ]
    },
    {
     "data": {
      "text/plain": [
       "array([1, 0, 0, ..., 0, 0, 1], dtype=int64)"
      ]
     },
     "execution_count": 43,
     "metadata": {},
     "output_type": "execute_result"
    }
   ],
   "source": [
    "pred_y=model.predict(val_x)\n",
    "predicted_classes = np.argmax(pred_y, axis=1)\n",
    "predicted_classes"
   ]
  },
  {
   "cell_type": "code",
   "execution_count": null,
   "id": "78e1aadd",
   "metadata": {},
   "outputs": [],
   "source": []
  },
  {
   "cell_type": "code",
   "execution_count": null,
   "id": "ebf567ba",
   "metadata": {},
   "outputs": [],
   "source": []
  },
  {
   "cell_type": "code",
   "execution_count": 45,
   "id": "da8c1dec",
   "metadata": {},
   "outputs": [],
   "source": [
    "model = tf.keras.models.load_model('stare_model.h5')"
   ]
  },
  {
   "cell_type": "code",
   "execution_count": 20,
   "id": "4790f20c",
   "metadata": {
    "scrolled": true
   },
   "outputs": [
    {
     "name": "stdout",
     "output_type": "stream",
     "text": [
      "Requirement already satisfied: opencv-python-headless in c:\\users\\user\\anaconda3\\lib\\site-packages (4.8.1.78)\n",
      "Requirement already satisfied: numpy>=1.21.2 in c:\\users\\user\\anaconda3\\lib\\site-packages (from opencv-python-headless) (1.24.3)\n",
      "Note: you may need to restart the kernel to use updated packages.\n"
     ]
    }
   ],
   "source": [
    "pip install opencv-python-headless"
   ]
  },
  {
   "cell_type": "code",
   "execution_count": 46,
   "id": "5028e714",
   "metadata": {},
   "outputs": [],
   "source": [
    "import tkinter as tk\n",
    "from PIL import Image, ImageTk\n",
    "import cv2\n",
    "import numpy as np\n",
    "import tensorflow as tf\n",
    "import time\n",
    "import os"
   ]
  },
  {
   "cell_type": "code",
   "execution_count": null,
   "id": "083cdc59",
   "metadata": {},
   "outputs": [],
   "source": []
  },
  {
   "cell_type": "code",
   "execution_count": null,
   "id": "e27ebb61",
   "metadata": {},
   "outputs": [],
   "source": []
  },
  {
   "cell_type": "code",
   "execution_count": 47,
   "id": "81485304",
   "metadata": {},
   "outputs": [],
   "source": [
    "import pandas as pd\n",
    "from tensorflow.keras.preprocessing import image\n",
    "import numpy as np\n",
    "from tensorflow.image import pad_to_bounding_box\n",
    "from tensorflow.image import central_crop\n",
    "from tensorflow.image import resize\n",
    "from PIL import Image\n",
    "from tensorflow import keras\n",
    "from tensorflow.keras.preprocessing.image import load_img, img_to_array\n",
    "import tkinter as tk\n",
    "from PIL import Image, ImageTk\n",
    "import cv2\n",
    "import numpy as np\n",
    "import tensorflow as tf\n",
    "import time\n",
    "import os\n",
    "import json\n",
    "import time\n",
    "from collections import Counter\n",
    "from datetime import datetime"
   ]
  },
  {
   "cell_type": "code",
   "execution_count": 48,
   "id": "cf2bd92f",
   "metadata": {
    "id": "cf2bd92f",
    "outputId": "8ba1d504-df63-4e3c-cf97-44b0279e0d55"
   },
   "outputs": [
    {
     "ename": "OSError",
     "evalue": "No file or directory found at emotion_model.h5",
     "output_type": "error",
     "traceback": [
      "\u001b[1;31m---------------------------------------------------------------------------\u001b[0m",
      "\u001b[1;31mOSError\u001b[0m                                   Traceback (most recent call last)",
      "Cell \u001b[1;32mIn[48], line 98\u001b[0m\n\u001b[0;32m     96\u001b[0m \u001b[38;5;28;01mif\u001b[39;00m \u001b[38;5;18m__name__\u001b[39m \u001b[38;5;241m==\u001b[39m \u001b[38;5;124m'\u001b[39m\u001b[38;5;124m__main__\u001b[39m\u001b[38;5;124m'\u001b[39m:\n\u001b[0;32m     97\u001b[0m     root \u001b[38;5;241m=\u001b[39m tk\u001b[38;5;241m.\u001b[39mTk()\n\u001b[1;32m---> 98\u001b[0m     model \u001b[38;5;241m=\u001b[39m keras\u001b[38;5;241m.\u001b[39mmodels\u001b[38;5;241m.\u001b[39mload_model(\u001b[38;5;124m'\u001b[39m\u001b[38;5;124memotion_model.h5\u001b[39m\u001b[38;5;124m'\u001b[39m)\n\u001b[0;32m     99\u001b[0m     app \u001b[38;5;241m=\u001b[39m  FaceRecognitionApp(root, \u001b[38;5;124m\"\u001b[39m\u001b[38;5;124mFace Recognition\u001b[39m\u001b[38;5;124m\"\u001b[39m, model)\n",
      "File \u001b[1;32m~\\anaconda3\\Lib\\site-packages\\keras\\src\\saving\\saving_api.py:262\u001b[0m, in \u001b[0;36mload_model\u001b[1;34m(filepath, custom_objects, compile, safe_mode, **kwargs)\u001b[0m\n\u001b[0;32m    254\u001b[0m     \u001b[38;5;28;01mreturn\u001b[39;00m saving_lib\u001b[38;5;241m.\u001b[39mload_model(\n\u001b[0;32m    255\u001b[0m         filepath,\n\u001b[0;32m    256\u001b[0m         custom_objects\u001b[38;5;241m=\u001b[39mcustom_objects,\n\u001b[0;32m    257\u001b[0m         \u001b[38;5;28mcompile\u001b[39m\u001b[38;5;241m=\u001b[39m\u001b[38;5;28mcompile\u001b[39m,\n\u001b[0;32m    258\u001b[0m         safe_mode\u001b[38;5;241m=\u001b[39msafe_mode,\n\u001b[0;32m    259\u001b[0m     )\n\u001b[0;32m    261\u001b[0m \u001b[38;5;66;03m# Legacy case.\u001b[39;00m\n\u001b[1;32m--> 262\u001b[0m \u001b[38;5;28;01mreturn\u001b[39;00m legacy_sm_saving_lib\u001b[38;5;241m.\u001b[39mload_model(\n\u001b[0;32m    263\u001b[0m     filepath, custom_objects\u001b[38;5;241m=\u001b[39mcustom_objects, \u001b[38;5;28mcompile\u001b[39m\u001b[38;5;241m=\u001b[39m\u001b[38;5;28mcompile\u001b[39m, \u001b[38;5;241m*\u001b[39m\u001b[38;5;241m*\u001b[39mkwargs\n\u001b[0;32m    264\u001b[0m )\n",
      "File \u001b[1;32m~\\anaconda3\\Lib\\site-packages\\keras\\src\\utils\\traceback_utils.py:70\u001b[0m, in \u001b[0;36mfilter_traceback.<locals>.error_handler\u001b[1;34m(*args, **kwargs)\u001b[0m\n\u001b[0;32m     67\u001b[0m     filtered_tb \u001b[38;5;241m=\u001b[39m _process_traceback_frames(e\u001b[38;5;241m.\u001b[39m__traceback__)\n\u001b[0;32m     68\u001b[0m     \u001b[38;5;66;03m# To get the full stack trace, call:\u001b[39;00m\n\u001b[0;32m     69\u001b[0m     \u001b[38;5;66;03m# `tf.debugging.disable_traceback_filtering()`\u001b[39;00m\n\u001b[1;32m---> 70\u001b[0m     \u001b[38;5;28;01mraise\u001b[39;00m e\u001b[38;5;241m.\u001b[39mwith_traceback(filtered_tb) \u001b[38;5;28;01mfrom\u001b[39;00m \u001b[38;5;28;01mNone\u001b[39;00m\n\u001b[0;32m     71\u001b[0m \u001b[38;5;28;01mfinally\u001b[39;00m:\n\u001b[0;32m     72\u001b[0m     \u001b[38;5;28;01mdel\u001b[39;00m filtered_tb\n",
      "File \u001b[1;32m~\\anaconda3\\Lib\\site-packages\\keras\\src\\saving\\legacy\\save.py:234\u001b[0m, in \u001b[0;36mload_model\u001b[1;34m(filepath, custom_objects, compile, options)\u001b[0m\n\u001b[0;32m    232\u001b[0m \u001b[38;5;28;01mif\u001b[39;00m \u001b[38;5;28misinstance\u001b[39m(filepath_str, \u001b[38;5;28mstr\u001b[39m):\n\u001b[0;32m    233\u001b[0m     \u001b[38;5;28;01mif\u001b[39;00m \u001b[38;5;129;01mnot\u001b[39;00m tf\u001b[38;5;241m.\u001b[39mio\u001b[38;5;241m.\u001b[39mgfile\u001b[38;5;241m.\u001b[39mexists(filepath_str):\n\u001b[1;32m--> 234\u001b[0m         \u001b[38;5;28;01mraise\u001b[39;00m \u001b[38;5;167;01mIOError\u001b[39;00m(\n\u001b[0;32m    235\u001b[0m             \u001b[38;5;124mf\u001b[39m\u001b[38;5;124m\"\u001b[39m\u001b[38;5;124mNo file or directory found at \u001b[39m\u001b[38;5;132;01m{\u001b[39;00mfilepath_str\u001b[38;5;132;01m}\u001b[39;00m\u001b[38;5;124m\"\u001b[39m\n\u001b[0;32m    236\u001b[0m         )\n\u001b[0;32m    238\u001b[0m     \u001b[38;5;28;01mif\u001b[39;00m tf\u001b[38;5;241m.\u001b[39mio\u001b[38;5;241m.\u001b[39mgfile\u001b[38;5;241m.\u001b[39misdir(filepath_str):\n\u001b[0;32m    239\u001b[0m         \u001b[38;5;28;01mreturn\u001b[39;00m saved_model_load\u001b[38;5;241m.\u001b[39mload(\n\u001b[0;32m    240\u001b[0m             filepath_str, \u001b[38;5;28mcompile\u001b[39m, options\n\u001b[0;32m    241\u001b[0m         )\n",
      "\u001b[1;31mOSError\u001b[0m: No file or directory found at emotion_model.h5"
     ]
    }
   ],
   "source": []
  },
  {
   "cell_type": "code",
   "execution_count": null,
   "id": "c4477582",
   "metadata": {
    "id": "c4477582"
   },
   "outputs": [],
   "source": [
    "# 웹캠을 활용한 감정분석\n",
    "class FaceRecognitionApp:\n",
    "    def init(self, window, window_title, model):\n",
    "        self.emotions_df= pd.DataFrame(columns=['Timestamp','Predicted_Emotion' ])\n",
    "        self.window = window\n",
    "        self.window.title(window_title)\n",
    "        self.model = model\n",
    "        self.video_source = 0\n",
    "        self.vid = cv2.VideoCapture(self.video_source)\n",
    "        \n",
    "        \n",
    "        if not self.vid.isOpened():\n",
    "            raise ValueError(\"Unable to open video source\", self.video_source)\n",
    "        self.canvas = tk.Label(window, width=640, height=480)\n",
    "        self.canvas.pack()\n",
    "        self.face_cascade = cv2.CascadeClassifier(cv2.data.haarcascades + 'haarcascade_frontalface_default.xml')\n",
    "        self.window.bind(\"<space>\", self.on_close)\n",
    "        self.update()\n",
    "        self.window.mainloop()\n",
    "        \n",
    "      \n",
    "    def predict_emotion(self, face_img):\n",
    "        try:\n",
    "            resized_img = cv2.resize(face_img, (64, 64))\n",
    "            filename = f\"image_{int(time.time())}.png\"\n",
    "            filepath = f\"images/{filename}\"\n",
    "            cv2.imwrite(filepath, resized_img)\n",
    "            img = load_img(filepath)\n",
    "            img_array = img_to_array(img) / 255.0\n",
    "            img_array = np.expand_dims(img_array, axis=0)\n",
    "            predictions = self.model.predict(img_array)                    \n",
    "            class_index = np.argmax(predictions[0])\n",
    "            emotions = [\"Surprise\", \"Sad\", \"Happy\", \"Angry\", \"Neutral\", \"Confident\"]\n",
    "            \n",
    "            predicted_emotion = emotions[class_index]\n",
    "            current_time = datetime.now().strftime('%Y-%m-%d %H:%M:%S')\n",
    "                      \n",
    "            new_data = {'Timestamp': current_time, 'Predicted_Emotion': predicted_emotion}\n",
    "            self.emotions_df.loc[len(self.emotions_df)] = [current_time, predicted_emotion]\n",
    "            print(predicted_emotion)\n",
    "            return predicted_emotion\n",
    "\n",
    "        except Exception as e:\n",
    "            print(f\"Error in predict_emotion: {e}\")\n",
    "            return \"Error\"\n",
    "        \n",
    "    def on_close(self, event=None):  # 이벤트 핸들러에 맞게 인자 수정\n",
    "        print(\"Closing application and saving data...\")\n",
    "        self.save_emotion_data()   \n",
    "        self.vid.release()  # 카메라 해제\n",
    "        self.window.destroy()  # 윈도우 종료       \n",
    "\n",
    "    # 감정의 빈도 계산\n",
    "    def get_emotion_frequencies(self):\n",
    "        emotion_frequencies = Counter(emotion for emotion, _ in self.emotion_scores)\n",
    "        return emotion_frequencies\n",
    "    \n",
    "    def update(self):\n",
    "        ret, frame = self.vid.read()\n",
    "        if ret:\n",
    "            self.display_frame(frame)\n",
    "            self.window.after(1, self.update)\n",
    "        \n",
    "    def print_emotion_data(self):\n",
    "        print(self.emotions_df)      \n",
    "        \n",
    "    def display_frame(self, frame):\n",
    "        try:\n",
    "            frame = cv2.resize(frame, (640, 480))\n",
    "            faces = self.face_cascade.detectMultiScale(frame, 1.1, 4)\n",
    "            for (x, y, w, h) in faces:\n",
    "                # 얼굴 크기가 충분히 큰지 확인\n",
    "                if w >= 100 and h >= 100:\n",
    "                    face_img = frame[y:y+h, x:x+w]\n",
    "                    emotion = self.predict_emotion(face_img)\n",
    "                    cv2.rectangle(frame, (x, y), (x+w, y+h), (0, 255, 0), 2)\n",
    "                    cv2.putText(frame, emotion, (x, y-10), cv2.FONT_HERSHEY_SIMPLEX, 0.9, (36,255,12), 2)\n",
    "                else:\n",
    "                    print(\"Detected face is too small\")\n",
    "            \n",
    "            cv2image = cv2.cvtColor(frame, cv2.COLOR_BGR2RGBA)\n",
    "            self.img = Image.fromarray(cv2image)\n",
    "            self.imgtk = ImageTk.PhotoImage(image=self.img)\n",
    "            self.canvas.imgtk = self.imgtk\n",
    "            self.canvas.configure(image=self.imgtk)\n",
    "        except Exception as e:\n",
    "            print(f\"display_frame에서 오류 발생: {e}\")\n",
    "\n",
    "            \n",
    "\n",
    "    def save_emotion_data(self):\n",
    "        self.emotions_df.to_csv(\"emotion_data.csv\", index=False)\n",
    "        print(\"Emotion data saved to 'emotion_data.csv'.\")   \n",
    "\n",
    "# 메인 부분\n",
    "if __name__ == '__main__':\n",
    "    root = tk.Tk()\n",
    "    model = keras.models.load_model('emotion_model.h5')\n",
    "    app =  FaceRecognitionApp(root, \"Face Recognition\", model)"
   ]
  },
  {
   "cell_type": "code",
   "execution_count": null,
   "id": "b2d436fb",
   "metadata": {
    "id": "b2d436fb"
   },
   "outputs": [],
   "source": []
  },
  {
   "cell_type": "code",
   "execution_count": null,
   "id": "c53f97d0",
   "metadata": {
    "id": "c53f97d0"
   },
   "outputs": [],
   "source": []
  },
  {
   "cell_type": "code",
   "execution_count": null,
   "id": "4315f162",
   "metadata": {
    "id": "4315f162"
   },
   "outputs": [],
   "source": []
  }
 ],
 "metadata": {
  "accelerator": "GPU",
  "colab": {
   "gpuType": "T4",
   "provenance": []
  },
  "kernelspec": {
   "display_name": "Python 3 (ipykernel)",
   "language": "python",
   "name": "python3"
  },
  "language_info": {
   "codemirror_mode": {
    "name": "ipython",
    "version": 3
   },
   "file_extension": ".py",
   "mimetype": "text/x-python",
   "name": "python",
   "nbconvert_exporter": "python",
   "pygments_lexer": "ipython3",
   "version": "3.11.4"
  },
  "toc": {
   "base_numbering": 1,
   "nav_menu": {},
   "number_sections": true,
   "sideBar": true,
   "skip_h1_title": false,
   "title_cell": "Table of Contents",
   "title_sidebar": "Contents",
   "toc_cell": false,
   "toc_position": {},
   "toc_section_display": true,
   "toc_window_display": false
  },
  "varInspector": {
   "cols": {
    "lenName": 16,
    "lenType": 16,
    "lenVar": 40
   },
   "kernels_config": {
    "python": {
     "delete_cmd_postfix": "",
     "delete_cmd_prefix": "del ",
     "library": "var_list.py",
     "varRefreshCmd": "print(var_dic_list())"
    },
    "r": {
     "delete_cmd_postfix": ") ",
     "delete_cmd_prefix": "rm(",
     "library": "var_list.r",
     "varRefreshCmd": "cat(var_dic_list()) "
    }
   },
   "types_to_exclude": [
    "module",
    "function",
    "builtin_function_or_method",
    "instance",
    "_Feature"
   ],
   "window_display": false
  }
 },
 "nbformat": 4,
 "nbformat_minor": 5
}
