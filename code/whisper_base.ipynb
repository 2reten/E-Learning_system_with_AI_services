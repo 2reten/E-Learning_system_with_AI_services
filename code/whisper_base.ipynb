{
 "cells": [
  {
   "cell_type": "code",
   "execution_count": 8,
   "id": "4d82f643",
   "metadata": {
    "ExecuteTime": {
     "end_time": "2023-12-13T05:45:15.657959Z",
     "start_time": "2023-12-13T05:45:07.962642Z"
    }
   },
   "outputs": [
    {
     "name": "stdout",
     "output_type": "stream",
     "text": [
      "Requirement already satisfied: transformers in c:\\users\\user\\anaconda3\\lib\\site-packages (4.36.0.dev0)\n",
      "Requirement already satisfied: datasets in c:\\users\\user\\anaconda3\\lib\\site-packages (2.15.0)\n",
      "Requirement already satisfied: pandas in c:\\users\\user\\anaconda3\\lib\\site-packages (1.5.3)\n",
      "Requirement already satisfied: filelock in c:\\users\\user\\anaconda3\\lib\\site-packages (from transformers) (3.9.0)\n",
      "Requirement already satisfied: huggingface-hub<1.0,>=0.19.3 in c:\\users\\user\\anaconda3\\lib\\site-packages (from transformers) (0.19.4)\n",
      "Requirement already satisfied: numpy>=1.17 in c:\\users\\user\\anaconda3\\lib\\site-packages (from transformers) (1.24.3)\n",
      "Requirement already satisfied: packaging>=20.0 in c:\\users\\user\\anaconda3\\lib\\site-packages (from transformers) (23.0)\n",
      "Requirement already satisfied: pyyaml>=5.1 in c:\\users\\user\\anaconda3\\lib\\site-packages (from transformers) (6.0)\n",
      "Requirement already satisfied: regex!=2019.12.17 in c:\\users\\user\\anaconda3\\lib\\site-packages (from transformers) (2022.7.9)\n",
      "Requirement already satisfied: requests in c:\\users\\user\\anaconda3\\lib\\site-packages (from transformers) (2.31.0)\n",
      "Requirement already satisfied: tokenizers<0.19,>=0.14 in c:\\users\\user\\anaconda3\\lib\\site-packages (from transformers) (0.15.0)\n",
      "Requirement already satisfied: safetensors>=0.3.1 in c:\\users\\user\\anaconda3\\lib\\site-packages (from transformers) (0.4.1)\n",
      "Requirement already satisfied: tqdm>=4.27 in c:\\users\\user\\anaconda3\\lib\\site-packages (from transformers) (4.65.0)\n",
      "Requirement already satisfied: pyarrow>=8.0.0 in c:\\users\\user\\anaconda3\\lib\\site-packages (from datasets) (11.0.0)\n",
      "Requirement already satisfied: pyarrow-hotfix in c:\\users\\user\\anaconda3\\lib\\site-packages (from datasets) (0.6)\n",
      "Requirement already satisfied: dill<0.3.8,>=0.3.0 in c:\\users\\user\\anaconda3\\lib\\site-packages (from datasets) (0.3.7)\n",
      "Requirement already satisfied: xxhash in c:\\users\\user\\anaconda3\\lib\\site-packages (from datasets) (3.4.1)\n",
      "Requirement already satisfied: multiprocess in c:\\users\\user\\anaconda3\\lib\\site-packages (from datasets) (0.70.15)\n",
      "Requirement already satisfied: fsspec<=2023.10.0,>=2023.1.0 in c:\\users\\user\\anaconda3\\lib\\site-packages (from fsspec[http]<=2023.10.0,>=2023.1.0->datasets) (2023.10.0)\n",
      "Requirement already satisfied: aiohttp in c:\\users\\user\\anaconda3\\lib\\site-packages (from datasets) (3.8.3)\n",
      "Requirement already satisfied: python-dateutil>=2.8.1 in c:\\users\\user\\anaconda3\\lib\\site-packages (from pandas) (2.8.2)\n",
      "Requirement already satisfied: pytz>=2020.1 in c:\\users\\user\\anaconda3\\lib\\site-packages (from pandas) (2022.7)\n",
      "Requirement already satisfied: attrs>=17.3.0 in c:\\users\\user\\anaconda3\\lib\\site-packages (from aiohttp->datasets) (22.1.0)\n",
      "Requirement already satisfied: charset-normalizer<3.0,>=2.0 in c:\\users\\user\\anaconda3\\lib\\site-packages (from aiohttp->datasets) (2.0.4)\n",
      "Requirement already satisfied: multidict<7.0,>=4.5 in c:\\users\\user\\anaconda3\\lib\\site-packages (from aiohttp->datasets) (6.0.2)\n",
      "Requirement already satisfied: async-timeout<5.0,>=4.0.0a3 in c:\\users\\user\\anaconda3\\lib\\site-packages (from aiohttp->datasets) (4.0.2)\n",
      "Requirement already satisfied: yarl<2.0,>=1.0 in c:\\users\\user\\anaconda3\\lib\\site-packages (from aiohttp->datasets) (1.8.1)\n",
      "Requirement already satisfied: frozenlist>=1.1.1 in c:\\users\\user\\anaconda3\\lib\\site-packages (from aiohttp->datasets) (1.3.3)\n",
      "Requirement already satisfied: aiosignal>=1.1.2 in c:\\users\\user\\anaconda3\\lib\\site-packages (from aiohttp->datasets) (1.2.0)\n",
      "Requirement already satisfied: typing-extensions>=3.7.4.3 in c:\\users\\user\\anaconda3\\lib\\site-packages (from huggingface-hub<1.0,>=0.19.3->transformers) (4.7.1)\n",
      "Requirement already satisfied: six>=1.5 in c:\\users\\user\\anaconda3\\lib\\site-packages (from python-dateutil>=2.8.1->pandas) (1.16.0)\n",
      "Requirement already satisfied: idna<4,>=2.5 in c:\\users\\user\\anaconda3\\lib\\site-packages (from requests->transformers) (3.4)\n",
      "Requirement already satisfied: urllib3<3,>=1.21.1 in c:\\users\\user\\anaconda3\\lib\\site-packages (from requests->transformers) (1.26.16)\n",
      "Requirement already satisfied: certifi>=2017.4.17 in c:\\users\\user\\anaconda3\\lib\\site-packages (from requests->transformers) (2023.7.22)\n",
      "Requirement already satisfied: colorama in c:\\users\\user\\anaconda3\\lib\\site-packages (from tqdm>=4.27->transformers) (0.4.6)\n",
      "Note: you may need to restart the kernel to use updated packages.\n"
     ]
    }
   ],
   "source": [
    "pip install transformers datasets pandas"
   ]
  },
  {
   "cell_type": "code",
   "execution_count": 1,
   "id": "ac0853da",
   "metadata": {
    "ExecuteTime": {
     "end_time": "2023-12-13T05:10:47.156964Z",
     "start_time": "2023-12-13T05:10:39.324285Z"
    }
   },
   "outputs": [
    {
     "name": "stdout",
     "output_type": "stream",
     "text": [
      "Requirement already satisfied: transformers in c:\\users\\user\\anaconda3\\lib\\site-packages (4.36.0.dev0)\n",
      "Requirement already satisfied: filelock in c:\\users\\user\\anaconda3\\lib\\site-packages (from transformers) (3.9.0)\n",
      "Requirement already satisfied: huggingface-hub<1.0,>=0.19.3 in c:\\users\\user\\anaconda3\\lib\\site-packages (from transformers) (0.19.4)\n",
      "Requirement already satisfied: numpy>=1.17 in c:\\users\\user\\anaconda3\\lib\\site-packages (from transformers) (1.24.3)\n",
      "Requirement already satisfied: packaging>=20.0 in c:\\users\\user\\anaconda3\\lib\\site-packages (from transformers) (23.0)\n",
      "Requirement already satisfied: pyyaml>=5.1 in c:\\users\\user\\anaconda3\\lib\\site-packages (from transformers) (6.0)\n",
      "Requirement already satisfied: regex!=2019.12.17 in c:\\users\\user\\anaconda3\\lib\\site-packages (from transformers) (2022.7.9)\n",
      "Requirement already satisfied: requests in c:\\users\\user\\anaconda3\\lib\\site-packages (from transformers) (2.31.0)\n",
      "Requirement already satisfied: tokenizers<0.19,>=0.14 in c:\\users\\user\\anaconda3\\lib\\site-packages (from transformers) (0.15.0)\n",
      "Requirement already satisfied: safetensors>=0.3.1 in c:\\users\\user\\anaconda3\\lib\\site-packages (from transformers) (0.4.1)\n",
      "Requirement already satisfied: tqdm>=4.27 in c:\\users\\user\\anaconda3\\lib\\site-packages (from transformers) (4.65.0)\n",
      "Requirement already satisfied: fsspec>=2023.5.0 in c:\\users\\user\\anaconda3\\lib\\site-packages (from huggingface-hub<1.0,>=0.19.3->transformers) (2023.10.0)\n",
      "Requirement already satisfied: typing-extensions>=3.7.4.3 in c:\\users\\user\\anaconda3\\lib\\site-packages (from huggingface-hub<1.0,>=0.19.3->transformers) (4.7.1)\n",
      "Requirement already satisfied: colorama in c:\\users\\user\\anaconda3\\lib\\site-packages (from tqdm>=4.27->transformers) (0.4.6)\n",
      "Requirement already satisfied: charset-normalizer<4,>=2 in c:\\users\\user\\anaconda3\\lib\\site-packages (from requests->transformers) (2.0.4)\n",
      "Requirement already satisfied: idna<4,>=2.5 in c:\\users\\user\\anaconda3\\lib\\site-packages (from requests->transformers) (3.4)\n",
      "Requirement already satisfied: urllib3<3,>=1.21.1 in c:\\users\\user\\anaconda3\\lib\\site-packages (from requests->transformers) (1.26.16)\n",
      "Requirement already satisfied: certifi>=2017.4.17 in c:\\users\\user\\anaconda3\\lib\\site-packages (from requests->transformers) (2023.7.22)\n"
     ]
    }
   ],
   "source": [
    "!pip install transformers"
   ]
  },
  {
   "cell_type": "code",
   "execution_count": 2,
   "id": "a00fd1a6",
   "metadata": {
    "ExecuteTime": {
     "end_time": "2023-12-13T05:10:56.033490Z",
     "start_time": "2023-12-13T05:10:48.456188Z"
    }
   },
   "outputs": [
    {
     "name": "stdout",
     "output_type": "stream",
     "text": [
      "Requirement already satisfied: accelerate in c:\\users\\user\\anaconda3\\lib\\site-packages (0.25.0)\n",
      "Requirement already satisfied: numpy>=1.17 in c:\\users\\user\\anaconda3\\lib\\site-packages (from accelerate) (1.24.3)\n",
      "Requirement already satisfied: packaging>=20.0 in c:\\users\\user\\anaconda3\\lib\\site-packages (from accelerate) (23.0)\n",
      "Requirement already satisfied: psutil in c:\\users\\user\\anaconda3\\lib\\site-packages (from accelerate) (5.9.0)\n",
      "Requirement already satisfied: pyyaml in c:\\users\\user\\anaconda3\\lib\\site-packages (from accelerate) (6.0)\n",
      "Requirement already satisfied: torch>=1.10.0 in c:\\users\\user\\anaconda3\\lib\\site-packages (from accelerate) (2.1.1)\n",
      "Requirement already satisfied: huggingface-hub in c:\\users\\user\\anaconda3\\lib\\site-packages (from accelerate) (0.19.4)\n",
      "Requirement already satisfied: safetensors>=0.3.1 in c:\\users\\user\\anaconda3\\lib\\site-packages (from accelerate) (0.4.1)\n",
      "Requirement already satisfied: filelock in c:\\users\\user\\anaconda3\\lib\\site-packages (from torch>=1.10.0->accelerate) (3.9.0)\n",
      "Requirement already satisfied: typing-extensions in c:\\users\\user\\anaconda3\\lib\\site-packages (from torch>=1.10.0->accelerate) (4.7.1)\n",
      "Requirement already satisfied: sympy in c:\\users\\user\\anaconda3\\lib\\site-packages (from torch>=1.10.0->accelerate) (1.11.1)\n",
      "Requirement already satisfied: networkx in c:\\users\\user\\anaconda3\\lib\\site-packages (from torch>=1.10.0->accelerate) (3.1)\n",
      "Requirement already satisfied: jinja2 in c:\\users\\user\\anaconda3\\lib\\site-packages (from torch>=1.10.0->accelerate) (3.1.2)\n",
      "Requirement already satisfied: fsspec in c:\\users\\user\\anaconda3\\lib\\site-packages (from torch>=1.10.0->accelerate) (2023.10.0)\n",
      "Requirement already satisfied: requests in c:\\users\\user\\anaconda3\\lib\\site-packages (from huggingface-hub->accelerate) (2.31.0)\n",
      "Requirement already satisfied: tqdm>=4.42.1 in c:\\users\\user\\anaconda3\\lib\\site-packages (from huggingface-hub->accelerate) (4.65.0)\n",
      "Requirement already satisfied: colorama in c:\\users\\user\\anaconda3\\lib\\site-packages (from tqdm>=4.42.1->huggingface-hub->accelerate) (0.4.6)\n",
      "Requirement already satisfied: MarkupSafe>=2.0 in c:\\users\\user\\anaconda3\\lib\\site-packages (from jinja2->torch>=1.10.0->accelerate) (2.1.1)\n",
      "Requirement already satisfied: charset-normalizer<4,>=2 in c:\\users\\user\\anaconda3\\lib\\site-packages (from requests->huggingface-hub->accelerate) (2.0.4)\n",
      "Requirement already satisfied: idna<4,>=2.5 in c:\\users\\user\\anaconda3\\lib\\site-packages (from requests->huggingface-hub->accelerate) (3.4)\n",
      "Requirement already satisfied: urllib3<3,>=1.21.1 in c:\\users\\user\\anaconda3\\lib\\site-packages (from requests->huggingface-hub->accelerate) (1.26.16)\n",
      "Requirement already satisfied: certifi>=2017.4.17 in c:\\users\\user\\anaconda3\\lib\\site-packages (from requests->huggingface-hub->accelerate) (2023.7.22)\n",
      "Requirement already satisfied: mpmath>=0.19 in c:\\users\\user\\anaconda3\\lib\\site-packages (from sympy->torch>=1.10.0->accelerate) (1.3.0)\n"
     ]
    }
   ],
   "source": [
    "!pip install accelerate"
   ]
  },
  {
   "cell_type": "code",
   "execution_count": 3,
   "id": "05194e7d",
   "metadata": {
    "ExecuteTime": {
     "end_time": "2023-12-13T05:11:04.980104Z",
     "start_time": "2023-12-13T05:10:57.921787Z"
    }
   },
   "outputs": [
    {
     "name": "stdout",
     "output_type": "stream",
     "text": [
      "Requirement already satisfied: sentencepiece in c:\\users\\user\\anaconda3\\lib\\site-packages (0.1.99)\n"
     ]
    }
   ],
   "source": [
    "!pip install sentencepiece"
   ]
  },
  {
   "cell_type": "code",
   "execution_count": 1,
   "id": "5903ba8f",
   "metadata": {
    "ExecuteTime": {
     "end_time": "2023-12-13T07:34:31.643322Z",
     "start_time": "2023-12-13T07:34:31.092106Z"
    }
   },
   "outputs": [
    {
     "data": {
      "text/plain": [
       "'C:\\\\Users\\\\user\\\\.cache\\\\huggingface\\\\hub\\\\models--google--pegasus-xsum\\\\snapshots\\\\8d8ffc158a3bee9fbb03afacdfc347c823c5ec8b\\\\config.json'"
      ]
     },
     "execution_count": 1,
     "metadata": {},
     "output_type": "execute_result"
    }
   ],
   "source": [
    "# 방법 1 : 다운로드하려는 파일(페가수스)의 저장소 ID와 파일 이름 설정\n",
    "from huggingface_hub import hf_hub_download\n",
    "hf_hub_download(repo_id=\"google/pegasus-xsum\", filename=\"config.json\")"
   ]
  },
  {
   "cell_type": "code",
   "execution_count": 2,
   "id": "a72742b1",
   "metadata": {
    "ExecuteTime": {
     "end_time": "2023-12-13T07:34:31.858269Z",
     "start_time": "2023-12-13T07:34:31.852951Z"
    }
   },
   "outputs": [
    {
     "data": {
      "text/plain": [
       "'C:\\\\Users\\\\user\\\\.cache\\\\huggingface\\\\hub\\\\models--google--pegasus-xsum\\\\snapshots\\\\4d33b01d79672f27f001f6abade33f22d993b151\\\\config.json'"
      ]
     },
     "execution_count": 2,
     "metadata": {},
     "output_type": "execute_result"
    }
   ],
   "source": [
    "# 방법 2 : 다운로드 하려는 파일(페가수스)의 특정 버전을 다운로드하려면 \n",
    "# revision매개변수를 사용하여 분기 이름, 태그 또는 커밋 해시를 지정해야함. \n",
    "from huggingface_hub import hf_hub_download\n",
    "hf_hub_download(\n",
    "    repo_id=\"google/pegasus-xsum\", \n",
    "    filename=\"config.json\", \n",
    "    revision=\"4d33b01d79672f27f001f6abade33f22d993b151\")"
   ]
  },
  {
   "cell_type": "code",
   "execution_count": 3,
   "id": "8cdb7ffb",
   "metadata": {
    "ExecuteTime": {
     "end_time": "2023-12-13T07:34:34.562940Z",
     "start_time": "2023-12-13T07:34:34.452063Z"
    }
   },
   "outputs": [
    {
     "data": {
      "application/vnd.jupyter.widget-view+json": {
       "model_id": "97d45468e2ed4fd2b9dd23c34b607273",
       "version_major": 2,
       "version_minor": 0
      },
      "text/plain": [
       "VBox(children=(HTML(value='<center> <img\\nsrc=https://huggingface.co/front/assets/huggingface_logo-noborder.sv…"
      ]
     },
     "metadata": {},
     "output_type": "display_data"
    }
   ],
   "source": [
    "from huggingface_hub import login                      # 허깅페이스 로그인. https://huggingface.co/settings/tokens의 토큰 이용\n",
    "login()"
   ]
  },
  {
   "cell_type": "code",
   "execution_count": null,
   "id": "fe99233a",
   "metadata": {
    "ExecuteTime": {
     "start_time": "2023-12-13T07:34:42.747Z"
    }
   },
   "outputs": [
    {
     "name": "stderr",
     "output_type": "stream",
     "text": [
      "`AnnotionFormat` is deprecated and will be removed in v4.38. Please use `transformers.image_utils.AnnotationFormat` instead.\n",
      "Special tokens have been added in the vocabulary, make sure the associated word embeddings are fine-tuned or trained.\n"
     ]
    }
   ],
   "source": [
    "import torch\n",
    "from transformers import AutoModelForSpeechSeq2Seq, AutoProcessor, pipeline, AutoTokenizer\n",
    "from datasets import load_dataset\n",
    "import pandas as pd\n",
    "\n",
    "# 모델 및 파이프라인 설정\n",
    "device = \"cuda:0\" if torch.cuda.is_available() else \"cpu\"\n",
    "torch_dtype = torch.float16 if torch.cuda.is_available() else torch.float32\n",
    "\n",
    "model_id = \"openai/whisper-large-v3\"\n",
    "model = AutoModelForSpeechSeq2Seq.from_pretrained(\n",
    "    model_id, torch_dtype=torch_dtype, low_cpu_mem_usage=True, use_safetensors=True\n",
    ")\n",
    "model.to(device)\n",
    "\n",
    "processor = AutoProcessor.from_pretrained(model_id)"
   ]
  },
  {
   "cell_type": "code",
   "execution_count": null,
   "id": "71424554",
   "metadata": {},
   "outputs": [],
   "source": [
    "# 모델 저장\n",
    "model_save_path = \"whisper_model\"\n",
    "model.save_pretrained(model_save_path)\n",
    "\n",
    "# 프로세서 저장\n",
    "processor_save_path = \"whisper_processor\"\n",
    "processor.save_pretrained(processor_save_path)"
   ]
  },
  {
   "cell_type": "markdown",
   "id": "453669f7",
   "metadata": {},
   "source": [
    "## 저장된 모델 불러오기"
   ]
  },
  {
   "cell_type": "code",
   "execution_count": 5,
   "id": "d39c5494",
   "metadata": {
    "ExecuteTime": {
     "end_time": "2023-12-13T07:43:14.504075Z",
     "start_time": "2023-12-13T07:43:11.687776Z"
    }
   },
   "outputs": [
    {
     "data": {
      "application/vnd.jupyter.widget-view+json": {
       "model_id": "e7a353602ebb454eb26d56cc692eb60d",
       "version_major": 2,
       "version_minor": 0
      },
      "text/plain": [
       "Loading checkpoint shards:   0%|          | 0/2 [00:00<?, ?it/s]"
      ]
     },
     "metadata": {},
     "output_type": "display_data"
    },
    {
     "name": "stderr",
     "output_type": "stream",
     "text": [
      "Special tokens have been added in the vocabulary, make sure the associated word embeddings are fine-tuned or trained.\n"
     ]
    }
   ],
   "source": [
    "import torch\n",
    "from transformers import AutoModelForSpeechSeq2Seq, AutoProcessor, pipeline, AutoTokenizer\n",
    "\n",
    "# 저장된 모델 로드\n",
    "model_save_path = \"whisper_model\"\n",
    "model = AutoModelForSpeechSeq2Seq.from_pretrained(model_save_path)\n",
    "\n",
    "# 저장된 프로세서 로드\n",
    "processor_save_path = \"whisper_processor\"\n",
    "processor = AutoProcessor.from_pretrained(processor_save_path)\n"
   ]
  },
  {
   "cell_type": "code",
   "execution_count": 6,
   "id": "37bdc26e",
   "metadata": {
    "ExecuteTime": {
     "end_time": "2023-12-13T07:43:16.405760Z",
     "start_time": "2023-12-13T07:43:16.380801Z"
    }
   },
   "outputs": [],
   "source": [
    "# 음성에서 텍스트로 변환하는 함수\n",
    "def convert_audio_to_text(audio_path, pipeline):\n",
    "    result = pipeline(audio_path)\n",
    "    return result[\"text\"]\n",
    "\n",
    "# 모델 및 파이프라인 설정\n",
    "device = \"cuda:0\" if torch.cuda.is_available() else \"cpu\"\n",
    "\n",
    "torch_dtype = torch.float16 if torch.cuda.is_available() else torch.float32\n",
    "\n",
    "model.to(device)\n",
    "\n",
    "pipe = pipeline(\n",
    "    \"automatic-speech-recognition\",\n",
    "    model=model,\n",
    "    tokenizer=processor.tokenizer,\n",
    "    feature_extractor=processor.feature_extractor,\n",
    "    max_new_tokens=128,\n",
    "    chunk_length_s=30,\n",
    "    batch_size=16,\n",
    "    return_timestamps=True,\n",
    "    torch_dtype=torch_dtype,\n",
    "    device=device,\n",
    ")"
   ]
  },
  {
   "cell_type": "code",
   "execution_count": 11,
   "id": "624e3158",
   "metadata": {
    "ExecuteTime": {
     "end_time": "2023-12-13T07:55:14.719038Z",
     "start_time": "2023-12-13T07:55:14.715436Z"
    }
   },
   "outputs": [],
   "source": [
    "from tqdm import tqdm"
   ]
  },
  {
   "cell_type": "code",
   "execution_count": 15,
   "id": "6d983628",
   "metadata": {
    "ExecuteTime": {
     "end_time": "2023-12-13T11:52:39.824857Z",
     "start_time": "2023-12-13T10:19:05.847874Z"
    }
   },
   "outputs": [
    {
     "name": "stderr",
     "output_type": "stream",
     "text": [
      "Processing:  33%|██████████████████████▎                                            | 10/30 [31:41<1:03:56, 191.81s/it]Whisper did not predict an ending timestamp, which can happen if audio is cut off in the middle of a word. Also make sure WhisperTimeStampLogitsProcessor was used during generation.\n",
      "Processing:  53%|████████████████████████████████████▊                                | 16/30 [48:46<42:20, 181.45s/it]Whisper did not predict an ending timestamp, which can happen if audio is cut off in the middle of a word. Also make sure WhisperTimeStampLogitsProcessor was used during generation.\n",
      "Processing:  63%|███████████████████████████████████████████▋                         | 19/30 [59:02<37:00, 201.86s/it]Whisper did not predict an ending timestamp, which can happen if audio is cut off in the middle of a word. Also make sure WhisperTimeStampLogitsProcessor was used during generation.\n",
      "Processing: 100%|███████████████████████████████████████████████████████████████████| 30/30 [1:33:33<00:00, 187.13s/it]"
     ]
    },
    {
     "name": "stdout",
     "output_type": "stream",
     "text": [
      "                                                 Text\n",
      "0    네, 시작하겠습니다. 자동차 제조사인 A사는 모델 E를 앞세워서 비극에 진출을 했...\n",
      "1    취업박람회는 학생들에게 최신 취업 트렌드와 다양한 기업의 채용 정보를 제공하고 실...\n",
      "2    스타트업의 해외시장 진출은 수출 증대, 경제성장 동력 확보, 일자리 창출 등에 기...\n",
      "3    만약에 업무량이 많고 보고서 제출 시기 또한 앞당겨진 상황에 팀장님께서 대학 입학...\n",
      "4    지원자 문 보름입니다. 저는 해외 무역 간의 지사와 담당자로서 B기업을 선택하도록...\n",
      "5    사람과의 갈등 발생 시 나에게 문제가 있다면 사과하고 소통을 통해 갈등을 해결하려...\n",
      "6    네, 저는 아이클린 선글라스의 진출 국가를 시국으로 선택하도록 하겠습니다. 시국을...\n",
      "7    수긍하는 합리적인 사람입니다. 일단 청구된 수리비가 과다하다고 생각되기 때문에 다...\n",
      "8    현지화 전략에 실패한 A사는 현지 시장에서 경쟁 우위 측면에서 성공 가능성이 큰 ...\n",
      "9    사전적으로 기존 연사자들의 불참 상황을 미리 준비하였을 것입니다. 개선 요청 사항...\n",
      "10   디지털 트랜스포메이션이 기업들의 지속 경영 전략으로서 전 세계적으로 활용되고 있으...\n",
      "11   저는 팀장님이 직원의 손목을 잡은 것에 대해서 정확히 제가 본 장면만 진술하도록 ...\n",
      "12   안녕하세요. 지원자 OO PT 발표 시작하도록 하겠습니다. 저는 우선 A기업의 사...\n",
      "13   안녕하세요. 지원자 OO PT 발표 시작하도록 하겠습니다. 저는 우선 A기업의 사...\n",
      "14   안녕하세요. 지원자 OO건 PT 발표 시작하도록 하겠습니다. 국내 시장에서 잘 알...\n",
      "15   저는 학생회장으로서 목표를 만족도 높은 ESG 취업 박람회를 개최하고자 합니다. ...\n",
      "16   시작하겠습니다. 본인의 저의 성격이 긍정적이기 때문에 카포를 선배와 좋은 관계를 ...\n",
      "17   네, 발표 시작하겠습니다. 현재 상황은 코로나19로 인해 대외 경기 침체가 장기화...\n",
      "18   네, 면접 시작하겠습니다. 저의 업무 스타일은 원만한 관계를 팀원과 맺는 것이 가...\n",
      "19   네, PT 시작하겠습니다. 현재 상황은 A 기업은 대수 초보 그리고 단기 성과가 ...\n",
      "20   코로나19 이후 뉴노멀을 맞이하여 디지털 트랜스포메이션이 전 세계적으로 가속화되고...\n",
      "21   우선 위와 같은 상황에서 저는 먼저 동기를 개인적으로 퇴근 후에 만나서 이야기를 ...\n",
      "22   코로나19 이후 뉴노멀을 맞이하여 디지털 트랜스포메이션이 전 세계적으로 가속화되고...\n",
      "23   우선 위와 같은 상황에서 저는 먼저 동기를 개인적으로 퇴근 후에 만나서 이야기를 ...\n",
      "24   우선 현재 상황은 외국인 관광객들이 13시에 진행하는 햄릿 뮤지컬 공연이 예정되어...\n",
      "25   시작하겠습니다. 현재 상황을 말씀드리자면 A사는 B국의 모델 1을 앞세워 진출 전...\n",
      "26   과거 불만적 상황이 반복되지 않게 노력하고 또 이를 반영하여 작년보다 더 성공적인...\n",
      "27   최근 우리나라는 장기간 무역수지 적자를 겪고 있습니다. 지난 6월 가까스로 무역수...\n",
      "28   Q 선수의 경로가 어떻게 되었나요? 때문에 저희가 좀 일찍 일어나고 이러한 수고로...\n",
      "29   아이컬리는 국내 시장의 성공을 기반으로 본격적으로 해외 시장을 진출하고 있는데 우...\n"
     ]
    },
    {
     "name": "stderr",
     "output_type": "stream",
     "text": [
      "\n"
     ]
    }
   ],
   "source": [
    "# 결과를 저장할 리스트\n",
    "results = []\n",
    "\n",
    "# 음성을 텍스트로 변환하고 결과를 리스트에 추가\n",
    "for i in tqdm(range(31, 61), desc=\"Processing\"):\n",
    "    audio_path = f\"fail_audio/fail{i}_audio.wav\"\n",
    "    text_result = convert_audio_to_text(audio_path, pipe)\n",
    "    results.append(text_result)\n",
    "\n",
    "# 결과를 DataFrame으로 변환\n",
    "df = pd.DataFrame({\"Text\": results})\n",
    "\n",
    "# CSV 파일로 저장\n",
    "df.to_csv(\"fail_results2.csv\", index=False)\n",
    "\n",
    "# 결과 출력\n",
    "print(df)"
   ]
  },
  {
   "cell_type": "code",
   "execution_count": 14,
   "id": "a3ae9c42",
   "metadata": {
    "ExecuteTime": {
     "end_time": "2023-12-13T10:18:42.981818Z",
     "start_time": "2023-12-13T10:18:42.877116Z"
    }
   },
   "outputs": [
    {
     "data": {
      "text/html": [
       "<div>\n",
       "<style scoped>\n",
       "    .dataframe tbody tr th:only-of-type {\n",
       "        vertical-align: middle;\n",
       "    }\n",
       "\n",
       "    .dataframe tbody tr th {\n",
       "        vertical-align: top;\n",
       "    }\n",
       "\n",
       "    .dataframe thead th {\n",
       "        text-align: right;\n",
       "    }\n",
       "</style>\n",
       "<table border=\"1\" class=\"dataframe\">\n",
       "  <thead>\n",
       "    <tr style=\"text-align: right;\">\n",
       "      <th></th>\n",
       "      <th>Text</th>\n",
       "    </tr>\n",
       "  </thead>\n",
       "  <tbody>\n",
       "    <tr>\n",
       "      <th>0</th>\n",
       "      <td>안녕하세요. 우리나라의 K-서비스 수출화 방안에 대한 발표를 맡은 권입니다. 현재...</td>\n",
       "    </tr>\n",
       "    <tr>\n",
       "      <th>1</th>\n",
       "      <td>Q. 현재 상황은? 자기 개발을 하려고 노력을 하는 성격입니다. 그래서 저라면 처...</td>\n",
       "    </tr>\n",
       "    <tr>\n",
       "      <th>2</th>\n",
       "      <td>안녕하세요. 지원자 권도은입니다. 저는 A 기업이 태국 시장 진출 방안에 대해서 ...</td>\n",
       "    </tr>\n",
       "    <tr>\n",
       "      <th>3</th>\n",
       "      <td>학술제를 준비해야 하는 상황에서 작년에 발생한 문제를 해결하고 성공적으로 학술제를...</td>\n",
       "    </tr>\n",
       "    <tr>\n",
       "      <th>4</th>\n",
       "      <td>안녕하세요. 지원자 권도은입니다. 현재 A사가 시국에 진출하려는 상황으로 시국의 ...</td>\n",
       "    </tr>\n",
       "    <tr>\n",
       "      <th>5</th>\n",
       "      <td>Q&amp;A 관심도와 업무량을 고려를 해서 인원을 배치하겠습니다. 우선 IT 기술 적용...</td>\n",
       "    </tr>\n",
       "    <tr>\n",
       "      <th>6</th>\n",
       "      <td>코트라의 핵심 사업은 사업 홈페이지에 의거하여 굉장히 다양한데 크게 무역, 투자,...</td>\n",
       "    </tr>\n",
       "    <tr>\n",
       "      <th>7</th>\n",
       "      <td>우선 현재 상황으로는 시장 조사 보고서를 일주일 당겨졌기 때문에 긴급히 제출해야 ...</td>\n",
       "    </tr>\n",
       "    <tr>\n",
       "      <th>8</th>\n",
       "      <td>시아씨요. 발표 시작하겠습니다. 현재 상황에 따라 전자를 선택하게 될 경우 고속열...</td>\n",
       "    </tr>\n",
       "    <tr>\n",
       "      <th>9</th>\n",
       "      <td>제가 회사 생활을 한다면 맡은 일을 어떻게든 수행하려 노력함과 동시에 직원 간의 ...</td>\n",
       "    </tr>\n",
       "    <tr>\n",
       "      <th>10</th>\n",
       "      <td>안녕하세요. 통상직 지원자 니콜입니다. 현재 A기업의 15개의 플랫폼 중 60%를...</td>\n",
       "    </tr>\n",
       "    <tr>\n",
       "      <th>11</th>\n",
       "      <td>안녕하세요. 통상식 지원자 김정원입니다. 저는 억울한 상황에서도 최대한 합리적인 ...</td>\n",
       "    </tr>\n",
       "    <tr>\n",
       "      <th>12</th>\n",
       "      <td>국내 기업들이 해외 시장으로 진출하기 위해 필요한 디지털 트랜스포메이션 관련 경쟁...</td>\n",
       "    </tr>\n",
       "    <tr>\n",
       "      <th>13</th>\n",
       "      <td>안녕하세요. 저는 김정원이고 첫 번째 문제 관련해서 AB 테스트를 이용해서 답변해...</td>\n",
       "    </tr>\n",
       "    <tr>\n",
       "      <th>14</th>\n",
       "      <td>네 안녕하십니까 통상직 지원자 김정원입니다. 아이클린사는 국내 선글라스 시장에서 ...</td>\n",
       "    </tr>\n",
       "    <tr>\n",
       "      <th>15</th>\n",
       "      <td>네 안녕하십니까 통상직 지원자 김정원입니다. 저는 예기치 못한 문제가 발생하는 상...</td>\n",
       "    </tr>\n",
       "    <tr>\n",
       "      <th>16</th>\n",
       "      <td>네 안녕하십니까 청담직 지원자 김정원입니다. 일단 A사는 국내 대표 중소커피 전문...</td>\n",
       "    </tr>\n",
       "    <tr>\n",
       "      <th>17</th>\n",
       "      <td>네 안녕하십니까 지원자 김정원입니다. DX 관련하여 TF팀의 일용포지 문제에 있어...</td>\n",
       "    </tr>\n",
       "    <tr>\n",
       "      <th>18</th>\n",
       "      <td>네 안녕하십니까 통상직 지원자 김태희입니다. 저는 해외 무역관 G사 사업 담당자로...</td>\n",
       "    </tr>\n",
       "    <tr>\n",
       "      <th>19</th>\n",
       "      <td>통상직 지원자 김태희 문제점에 대해서 보완할 것을 우선 동료들과 함께 공론화시켜 ...</td>\n",
       "    </tr>\n",
       "    <tr>\n",
       "      <th>20</th>\n",
       "      <td>네, 안녕하십니까. 지원자 조희입니다. 현재 한국 경제는 제조 무전도가 높아 대외...</td>\n",
       "    </tr>\n",
       "    <tr>\n",
       "      <th>21</th>\n",
       "      <td>네, 안녕하십니까. 지원자 조희입니다. 저는 주어진 문제 상황에서 두 업무 중 주...</td>\n",
       "    </tr>\n",
       "    <tr>\n",
       "      <th>22</th>\n",
       "      <td>안녕하세요. 통상직 지원자 김태희입니다. A사의 태국 시장 진출 전략에 대해서 발...</td>\n",
       "    </tr>\n",
       "    <tr>\n",
       "      <th>23</th>\n",
       "      <td>안녕하세요. 통상직 지원자 김태희입니다. 저는 맡은 바 업무를 원수하기 위해 플랜...</td>\n",
       "    </tr>\n",
       "    <tr>\n",
       "      <th>24</th>\n",
       "      <td>안녕하세요. 지현재 김태희입니다. 현재 A사는 가격 대비 고품질의 커피를 제공하는...</td>\n",
       "    </tr>\n",
       "    <tr>\n",
       "      <th>25</th>\n",
       "      <td>안녕하세요. 지원자 김태희입니다. 저는 프로젝트 TF팀 팀장으로서 프로젝트의 성공...</td>\n",
       "    </tr>\n",
       "    <tr>\n",
       "      <th>26</th>\n",
       "      <td>전자 김희재입니다. 우리나라의 무역수지 적자 해설을 위한 코트라의 지원 방안에 대...</td>\n",
       "    </tr>\n",
       "    <tr>\n",
       "      <th>27</th>\n",
       "      <td>발표 시작하겠습니다. 카풀은 일반적으로 시작하기 전에 픽업 시간과 기름값 등을 사...</td>\n",
       "    </tr>\n",
       "    <tr>\n",
       "      <th>28</th>\n",
       "      <td>네, 시작하겠습니다. 젊은 세대를 겨냥해 만든 개성 넘치는 고급 선글라스를 바탕으...</td>\n",
       "    </tr>\n",
       "    <tr>\n",
       "      <th>29</th>\n",
       "      <td>조명에 문제가 있다는 상황을 파악한 순간 공연 기획팀 팀원들에게 문제 상황을 공유...</td>\n",
       "    </tr>\n",
       "  </tbody>\n",
       "</table>\n",
       "</div>"
      ],
      "text/plain": [
       "                                                 Text\n",
       "0    안녕하세요. 우리나라의 K-서비스 수출화 방안에 대한 발표를 맡은 권입니다. 현재...\n",
       "1    Q. 현재 상황은? 자기 개발을 하려고 노력을 하는 성격입니다. 그래서 저라면 처...\n",
       "2    안녕하세요. 지원자 권도은입니다. 저는 A 기업이 태국 시장 진출 방안에 대해서 ...\n",
       "3    학술제를 준비해야 하는 상황에서 작년에 발생한 문제를 해결하고 성공적으로 학술제를...\n",
       "4    안녕하세요. 지원자 권도은입니다. 현재 A사가 시국에 진출하려는 상황으로 시국의 ...\n",
       "5    Q&A 관심도와 업무량을 고려를 해서 인원을 배치하겠습니다. 우선 IT 기술 적용...\n",
       "6    코트라의 핵심 사업은 사업 홈페이지에 의거하여 굉장히 다양한데 크게 무역, 투자,...\n",
       "7    우선 현재 상황으로는 시장 조사 보고서를 일주일 당겨졌기 때문에 긴급히 제출해야 ...\n",
       "8    시아씨요. 발표 시작하겠습니다. 현재 상황에 따라 전자를 선택하게 될 경우 고속열...\n",
       "9    제가 회사 생활을 한다면 맡은 일을 어떻게든 수행하려 노력함과 동시에 직원 간의 ...\n",
       "10   안녕하세요. 통상직 지원자 니콜입니다. 현재 A기업의 15개의 플랫폼 중 60%를...\n",
       "11   안녕하세요. 통상식 지원자 김정원입니다. 저는 억울한 상황에서도 최대한 합리적인 ...\n",
       "12   국내 기업들이 해외 시장으로 진출하기 위해 필요한 디지털 트랜스포메이션 관련 경쟁...\n",
       "13   안녕하세요. 저는 김정원이고 첫 번째 문제 관련해서 AB 테스트를 이용해서 답변해...\n",
       "14   네 안녕하십니까 통상직 지원자 김정원입니다. 아이클린사는 국내 선글라스 시장에서 ...\n",
       "15   네 안녕하십니까 통상직 지원자 김정원입니다. 저는 예기치 못한 문제가 발생하는 상...\n",
       "16   네 안녕하십니까 청담직 지원자 김정원입니다. 일단 A사는 국내 대표 중소커피 전문...\n",
       "17   네 안녕하십니까 지원자 김정원입니다. DX 관련하여 TF팀의 일용포지 문제에 있어...\n",
       "18   네 안녕하십니까 통상직 지원자 김태희입니다. 저는 해외 무역관 G사 사업 담당자로...\n",
       "19   통상직 지원자 김태희 문제점에 대해서 보완할 것을 우선 동료들과 함께 공론화시켜 ...\n",
       "20   네, 안녕하십니까. 지원자 조희입니다. 현재 한국 경제는 제조 무전도가 높아 대외...\n",
       "21   네, 안녕하십니까. 지원자 조희입니다. 저는 주어진 문제 상황에서 두 업무 중 주...\n",
       "22   안녕하세요. 통상직 지원자 김태희입니다. A사의 태국 시장 진출 전략에 대해서 발...\n",
       "23   안녕하세요. 통상직 지원자 김태희입니다. 저는 맡은 바 업무를 원수하기 위해 플랜...\n",
       "24   안녕하세요. 지현재 김태희입니다. 현재 A사는 가격 대비 고품질의 커피를 제공하는...\n",
       "25   안녕하세요. 지원자 김태희입니다. 저는 프로젝트 TF팀 팀장으로서 프로젝트의 성공...\n",
       "26   전자 김희재입니다. 우리나라의 무역수지 적자 해설을 위한 코트라의 지원 방안에 대...\n",
       "27   발표 시작하겠습니다. 카풀은 일반적으로 시작하기 전에 픽업 시간과 기름값 등을 사...\n",
       "28   네, 시작하겠습니다. 젊은 세대를 겨냥해 만든 개성 넘치는 고급 선글라스를 바탕으...\n",
       "29   조명에 문제가 있다는 상황을 파악한 순간 공연 기획팀 팀원들에게 문제 상황을 공유..."
      ]
     },
     "execution_count": 14,
     "metadata": {},
     "output_type": "execute_result"
    }
   ],
   "source": [
    "pd.read_csv('fail_results.csv')"
   ]
  },
  {
   "cell_type": "code",
   "execution_count": null,
   "id": "3c0e59f5",
   "metadata": {},
   "outputs": [],
   "source": []
  }
 ],
 "metadata": {
  "kernelspec": {
   "display_name": "Python 3 (ipykernel)",
   "language": "python",
   "name": "python3"
  },
  "language_info": {
   "codemirror_mode": {
    "name": "ipython",
    "version": 3
   },
   "file_extension": ".py",
   "mimetype": "text/x-python",
   "name": "python",
   "nbconvert_exporter": "python",
   "pygments_lexer": "ipython3",
   "version": "3.11.4"
  },
  "toc": {
   "base_numbering": 1,
   "nav_menu": {},
   "number_sections": true,
   "sideBar": true,
   "skip_h1_title": false,
   "title_cell": "Table of Contents",
   "title_sidebar": "Contents",
   "toc_cell": false,
   "toc_position": {},
   "toc_section_display": true,
   "toc_window_display": false
  }
 },
 "nbformat": 4,
 "nbformat_minor": 5
}
